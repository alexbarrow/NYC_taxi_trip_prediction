{
 "cells": [
  {
   "cell_type": "markdown",
   "metadata": {},
   "source": [
    "# Taxi-week 3.\n",
    "## Прогнозирование ряда со сложной сезонностью"
   ]
  },
  {
   "cell_type": "code",
   "execution_count": 348,
   "metadata": {},
   "outputs": [],
   "source": [
    "import pandas as pd\n",
    "import numpy as np\n",
    "import scipy as sc\n",
    "from scipy import stats\n",
    "import matplotlib.pyplot as plt\n",
    "import statsmodels.api as sm\n",
    "from statsmodels.tsa.stattools import adfuller\n",
    "import datetime"
   ]
  },
  {
   "cell_type": "code",
   "execution_count": 349,
   "metadata": {},
   "outputs": [],
   "source": [
    "import warnings\n",
    "warnings.simplefilter(action='ignore')"
   ]
  },
  {
   "cell_type": "markdown",
   "metadata": {},
   "source": [
    "## Загрузка данных\n",
    "Загрузите все подготовленные данные о количестве поездок в Желтом такси и объедините в один датасет все, кроме данных за последний имеющийся месяц — июнь 2016."
   ]
  },
  {
   "cell_type": "code",
   "execution_count": 350,
   "metadata": {},
   "outputs": [],
   "source": [
    "df_6=pd.read_csv(\"data/taxi_2016_06.csv\")\n",
    "df_5=pd.read_csv(\"data/taxi_2016_05.csv\")\n",
    "df_3=pd.read_csv(\"data/taxi_2016_03.csv\")\n",
    "df_4=pd.read_csv(\"data/taxi_2016_04.csv\")\n",
    "df_2=pd.read_csv(\"data/taxi_2016_02.csv\")\n",
    "df_1=pd.read_csv(\"data/taxi_2016_01.csv\")"
   ]
  },
  {
   "cell_type": "code",
   "execution_count": 351,
   "metadata": {
    "scrolled": true
   },
   "outputs": [],
   "source": [
    "df=pd.concat([ df_1,df_2,df_3,df_4,df_5], axis=0)"
   ]
  },
  {
   "cell_type": "code",
   "execution_count": 352,
   "metadata": {},
   "outputs": [
    {
     "data": {
      "text/html": [
       "<div>\n",
       "<style scoped>\n",
       "    .dataframe tbody tr th:only-of-type {\n",
       "        vertical-align: middle;\n",
       "    }\n",
       "\n",
       "    .dataframe tbody tr th {\n",
       "        vertical-align: top;\n",
       "    }\n",
       "\n",
       "    .dataframe thead th {\n",
       "        text-align: right;\n",
       "    }\n",
       "</style>\n",
       "<table border=\"1\" class=\"dataframe\">\n",
       "  <thead>\n",
       "    <tr style=\"text-align: right;\">\n",
       "      <th></th>\n",
       "      <th>Unnamed: 0</th>\n",
       "      <th>1</th>\n",
       "      <th>2</th>\n",
       "      <th>3</th>\n",
       "      <th>4</th>\n",
       "      <th>5</th>\n",
       "      <th>6</th>\n",
       "      <th>7</th>\n",
       "      <th>8</th>\n",
       "      <th>9</th>\n",
       "      <th>...</th>\n",
       "      <th>2491</th>\n",
       "      <th>2492</th>\n",
       "      <th>2493</th>\n",
       "      <th>2494</th>\n",
       "      <th>2495</th>\n",
       "      <th>2496</th>\n",
       "      <th>2497</th>\n",
       "      <th>2498</th>\n",
       "      <th>2499</th>\n",
       "      <th>2500</th>\n",
       "    </tr>\n",
       "  </thead>\n",
       "  <tbody>\n",
       "    <tr>\n",
       "      <th>0</th>\n",
       "      <td>2016-01-01 00:00:00</td>\n",
       "      <td>0.0</td>\n",
       "      <td>0.0</td>\n",
       "      <td>0.0</td>\n",
       "      <td>0.0</td>\n",
       "      <td>0.0</td>\n",
       "      <td>0.0</td>\n",
       "      <td>0.0</td>\n",
       "      <td>0.0</td>\n",
       "      <td>0.0</td>\n",
       "      <td>...</td>\n",
       "      <td>0.0</td>\n",
       "      <td>0.0</td>\n",
       "      <td>0.0</td>\n",
       "      <td>0.0</td>\n",
       "      <td>0.0</td>\n",
       "      <td>0.0</td>\n",
       "      <td>0.0</td>\n",
       "      <td>0.0</td>\n",
       "      <td>0.0</td>\n",
       "      <td>0.0</td>\n",
       "    </tr>\n",
       "    <tr>\n",
       "      <th>1</th>\n",
       "      <td>2016-01-01 01:00:00</td>\n",
       "      <td>0.0</td>\n",
       "      <td>0.0</td>\n",
       "      <td>0.0</td>\n",
       "      <td>0.0</td>\n",
       "      <td>0.0</td>\n",
       "      <td>0.0</td>\n",
       "      <td>0.0</td>\n",
       "      <td>0.0</td>\n",
       "      <td>0.0</td>\n",
       "      <td>...</td>\n",
       "      <td>0.0</td>\n",
       "      <td>0.0</td>\n",
       "      <td>0.0</td>\n",
       "      <td>0.0</td>\n",
       "      <td>0.0</td>\n",
       "      <td>0.0</td>\n",
       "      <td>0.0</td>\n",
       "      <td>0.0</td>\n",
       "      <td>0.0</td>\n",
       "      <td>0.0</td>\n",
       "    </tr>\n",
       "    <tr>\n",
       "      <th>2</th>\n",
       "      <td>2016-01-01 02:00:00</td>\n",
       "      <td>0.0</td>\n",
       "      <td>0.0</td>\n",
       "      <td>0.0</td>\n",
       "      <td>0.0</td>\n",
       "      <td>0.0</td>\n",
       "      <td>0.0</td>\n",
       "      <td>0.0</td>\n",
       "      <td>0.0</td>\n",
       "      <td>0.0</td>\n",
       "      <td>...</td>\n",
       "      <td>0.0</td>\n",
       "      <td>0.0</td>\n",
       "      <td>0.0</td>\n",
       "      <td>0.0</td>\n",
       "      <td>0.0</td>\n",
       "      <td>0.0</td>\n",
       "      <td>0.0</td>\n",
       "      <td>0.0</td>\n",
       "      <td>0.0</td>\n",
       "      <td>0.0</td>\n",
       "    </tr>\n",
       "    <tr>\n",
       "      <th>3</th>\n",
       "      <td>2016-01-01 03:00:00</td>\n",
       "      <td>0.0</td>\n",
       "      <td>0.0</td>\n",
       "      <td>0.0</td>\n",
       "      <td>0.0</td>\n",
       "      <td>0.0</td>\n",
       "      <td>0.0</td>\n",
       "      <td>0.0</td>\n",
       "      <td>0.0</td>\n",
       "      <td>0.0</td>\n",
       "      <td>...</td>\n",
       "      <td>0.0</td>\n",
       "      <td>0.0</td>\n",
       "      <td>0.0</td>\n",
       "      <td>0.0</td>\n",
       "      <td>0.0</td>\n",
       "      <td>0.0</td>\n",
       "      <td>0.0</td>\n",
       "      <td>0.0</td>\n",
       "      <td>0.0</td>\n",
       "      <td>0.0</td>\n",
       "    </tr>\n",
       "    <tr>\n",
       "      <th>4</th>\n",
       "      <td>2016-01-01 04:00:00</td>\n",
       "      <td>0.0</td>\n",
       "      <td>0.0</td>\n",
       "      <td>0.0</td>\n",
       "      <td>0.0</td>\n",
       "      <td>0.0</td>\n",
       "      <td>0.0</td>\n",
       "      <td>0.0</td>\n",
       "      <td>0.0</td>\n",
       "      <td>0.0</td>\n",
       "      <td>...</td>\n",
       "      <td>0.0</td>\n",
       "      <td>0.0</td>\n",
       "      <td>0.0</td>\n",
       "      <td>0.0</td>\n",
       "      <td>0.0</td>\n",
       "      <td>0.0</td>\n",
       "      <td>0.0</td>\n",
       "      <td>0.0</td>\n",
       "      <td>0.0</td>\n",
       "      <td>0.0</td>\n",
       "    </tr>\n",
       "  </tbody>\n",
       "</table>\n",
       "<p>5 rows × 2501 columns</p>\n",
       "</div>"
      ],
      "text/plain": [
       "            Unnamed: 0    1    2    3    4    5    6    7    8    9  ...  \\\n",
       "0  2016-01-01 00:00:00  0.0  0.0  0.0  0.0  0.0  0.0  0.0  0.0  0.0  ...   \n",
       "1  2016-01-01 01:00:00  0.0  0.0  0.0  0.0  0.0  0.0  0.0  0.0  0.0  ...   \n",
       "2  2016-01-01 02:00:00  0.0  0.0  0.0  0.0  0.0  0.0  0.0  0.0  0.0  ...   \n",
       "3  2016-01-01 03:00:00  0.0  0.0  0.0  0.0  0.0  0.0  0.0  0.0  0.0  ...   \n",
       "4  2016-01-01 04:00:00  0.0  0.0  0.0  0.0  0.0  0.0  0.0  0.0  0.0  ...   \n",
       "\n",
       "   2491  2492  2493  2494  2495  2496  2497  2498  2499  2500  \n",
       "0   0.0   0.0   0.0   0.0   0.0   0.0   0.0   0.0   0.0   0.0  \n",
       "1   0.0   0.0   0.0   0.0   0.0   0.0   0.0   0.0   0.0   0.0  \n",
       "2   0.0   0.0   0.0   0.0   0.0   0.0   0.0   0.0   0.0   0.0  \n",
       "3   0.0   0.0   0.0   0.0   0.0   0.0   0.0   0.0   0.0   0.0  \n",
       "4   0.0   0.0   0.0   0.0   0.0   0.0   0.0   0.0   0.0   0.0  \n",
       "\n",
       "[5 rows x 2501 columns]"
      ]
     },
     "execution_count": 352,
     "metadata": {},
     "output_type": "execute_result"
    }
   ],
   "source": [
    "df.head()"
   ]
  },
  {
   "cell_type": "code",
   "execution_count": 353,
   "metadata": {},
   "outputs": [
    {
     "data": {
      "text/plain": [
       "(3648, 2501)"
      ]
     },
     "execution_count": 353,
     "metadata": {},
     "output_type": "execute_result"
    }
   ],
   "source": [
    "df.shape"
   ]
  },
  {
   "cell_type": "markdown",
   "metadata": {},
   "source": [
    "###  👹Задание 1\n",
    "- Выберите район, для которого вы хотите строить прогноз. Не забудьте, что нумерация районов идет с 1.\n",
    "- Создайте датасет, в который поместите только информацию о времени (индексы строк) и числе поездок из выбранного района-единственный столбец\n",
    "- Постройте график исходного ряда. Если видны какие-то аномалии, отметьте это.\n",
    "\n",
    "Здесь и далее для работы с временными рядами можете пользоваться кодом из ноутбука с семинара 17. https://drive.google.com/file/d/1pOIUdenRSEje-iD1SVnFCItEdSIaeRui/view?usp=sharing\n"
   ]
  },
  {
   "cell_type": "code",
   "execution_count": 356,
   "metadata": {},
   "outputs": [],
   "source": [
    "# Ваш кода  - создание датасета"
   ]
  },
  {
   "cell_type": "code",
   "execution_count": 12,
   "metadata": {
    "scrolled": true
   },
   "outputs": [],
   "source": [
    "# Ваш код- построение графика"
   ]
  },
  {
   "cell_type": "markdown",
   "metadata": {},
   "source": [
    "###  👹Задание 2\n",
    "Проверьте ряд на стационарность:\n",
    "- Произведите декомпозицию ряда`sm.tsa.seasonal_decompose()`\n",
    "- Используйте критерий Дики-Фуллера\n",
    "- Напишите выводы о наличии/отсутствии стационарности"
   ]
  },
  {
   "cell_type": "code",
   "execution_count": 3,
   "metadata": {
    "scrolled": true
   },
   "outputs": [],
   "source": [
    "# Ваш код"
   ]
  },
  {
   "cell_type": "markdown",
   "metadata": {},
   "source": [
    "## Конструирование признаков"
   ]
  },
  {
   "cell_type": "markdown",
   "metadata": {},
   "source": [
    "###  👹Задание 3\n",
    "\n",
    "Создайте регрессионные признаки для учёта сезонностей и трендов.\n",
    "- Для учета недельной сезонности, добавьте в датасет признаки - компоненты ряда Фурье \n",
    "$$\\sin{\\frac{2\\pi\\cdot i\\cdot t}{w}}, \\quad  \\cos{\\frac{2\\pi\\cdot i\\cdot t}{w}}, \\; i=1..K$$\n",
    "\n",
    "    Число $K$ выберите сами - начните с небольшого значения (2-5), $w$ - длительность периода в часах (например, длительность недели в часах=168)\n",
    "- Годовую сезонность мы учесть не можем, т.к. данные у нас всего за 5 месяцев.\n",
    "- Если ранее при декомпозиции вы увидели тренд - добавьте также признаки для его учета (это может быть $t$, $t^2$,...)\n",
    "- Обучим регрессионную модель, включающую созданные признаки. Посмотрим, насколько хорошо этой моделью объясняется дисперсия.\n",
    "- **Замечание:** обратите внимание на то, что в модель очень желательно включить константу - иначе прогноз может оказаться смещенным. "
   ]
  },
  {
   "cell_type": "code",
   "execution_count": null,
   "metadata": {},
   "outputs": [],
   "source": [
    "# Ваш код"
   ]
  },
  {
   "cell_type": "markdown",
   "metadata": {},
   "source": [
    "###  👹Задание 4\n",
    "1. Составьте временные ряды:\n",
    "- из остатков регрессионной модели\n",
    "- из продифференцированных остатков модели (обычное и/или сезонное дифференцирование)\n",
    "2. Произведите декомпозиции этих рядов, примените критерий Дики-Фуллера и проверьте получившиеся ряды на стационарность"
   ]
  },
  {
   "cell_type": "code",
   "execution_count": null,
   "metadata": {},
   "outputs": [],
   "source": [
    "# Ваш код"
   ]
  },
  {
   "cell_type": "markdown",
   "metadata": {},
   "source": [
    "##  Подбор параметров моделей SARMA и SARIMA\n",
    "\n",
    "**Всюду далее будем работать только рядом из остатков (т.е будем конструировать модель SARMA).**\n",
    "\n",
    "**Если вы решите работать c продифференцированными остатками (и конструировать модель SARIMA), то эту работу проведите дома самостоятельно.**"
   ]
  },
  {
   "cell_type": "markdown",
   "metadata": {},
   "source": [
    "###  👹Задание 5\n",
    "С помощью  `statsmodels.api.graphics.tsa.plot_acf` и `statsmodels.api.graphics.tsa.plot_pacf` по автокорреляции и частичной автокорреляции подберите параметры модели ARMA - p,q,P,Q. \n",
    "\n",
    "**Замечание:** имейте в виду, что при выборе больших значений параметров модель будет весьма долго обучаться. "
   ]
  },
  {
   "cell_type": "markdown",
   "metadata": {},
   "source": [
    "##  Обучение моделей и проверка качества прогноза  "
   ]
  },
  {
   "cell_type": "markdown",
   "metadata": {},
   "source": [
    "Определим функцию, которая будет строить модели SARIMA с помощью функции SARIMAX для разных значений параметров p,q,P,Q (по сетке) и выбирать наилучшую по метрике aic. Источник https://gist.github.com/JessicaFB/af4c9d12ec8314cff56b5e0f18b8e61c"
   ]
  },
  {
   "cell_type": "code",
   "execution_count": 391,
   "metadata": {},
   "outputs": [],
   "source": [
    "def sarimax_gridsearch(ts, exog, par, d=0, D=0, s=24, maxiter=50, freq='H'):\n",
    "    '''\n",
    "    Input: \n",
    "        ts : your time series data\n",
    "        pdq : ARIMA combinations from above\n",
    "        pdqs : seasonal ARIMA combinations from above\n",
    "        maxiter : number of iterations, increase if your model isn't converging\n",
    "        frequency : default='M' for month. Change to suit your time series frequency\n",
    "            e.g. 'D' for day, 'H' for hour, 'Y' for year. \n",
    "        \n",
    "    Return:\n",
    "        Prints out top 5 parameter combinations\n",
    "        Returns dataframe of parameter combinations ranked by AIC\n",
    "    '''\n",
    "\n",
    "    # Run a grid search with pdq and seasonal pdq parameters and get the best AIC value\n",
    "    ans = []\n",
    "    for comb in par:\n",
    "        try:\n",
    "            #print(\"ahahah\")\n",
    "            model = sm.tsa.statespace.SARIMAX(timeseries, exog,\n",
    "                                                order=(comb[0],d,comb[1]),\n",
    "                                                seasonal_order=(comb[2],D, comb[3],s),\n",
    "                                                enforce_stationarity=False,\n",
    "                                                enforce_invertibility=False,\n",
    "                                                freq=freq)\n",
    "            #print(\"ohoho\")\n",
    "            output = model.fit(maxiter=maxiter, method='nm', disp=-1)#, low_memory=True) \n",
    "            #print(\"sg\")\n",
    "            ans.append([comb,output.aic])\n",
    "            print('SARIMAX {} x {}12 : AIC Calculated ={}'.format(comb, output.aic))\n",
    "        except:\n",
    "            continue\n",
    "            \n",
    "    # Find the parameters with minimal AIC value\n",
    "\n",
    "    # Convert into dataframe\n",
    "    ans_df = pd.DataFrame(ans, columns=['pqPQ', 'aic'])\n",
    "\n",
    "    # Sort and return top 5 combinations\n",
    "    ans_df = ans_df.sort_values(by=['aic'],ascending=True)[0:10]\n",
    "    \n",
    "    return ans_df"
   ]
  },
  {
   "cell_type": "markdown",
   "metadata": {},
   "source": [
    "В качестве максимальных значений для p, q, P, Q вставьть те, которые подобрали ранее по графикам автокорреляции и частичной автокорреляции\n",
    "В качестве параметров `exog` вам необходимо брать все те регрессионные признаки, которые вы добавили в модель."
   ]
  },
  {
   "cell_type": "code",
   "execution_count": 393,
   "metadata": {},
   "outputs": [],
   "source": [
    "# \n",
    "Q = range(0, ...)\n",
    "q = range(0, ...)\n",
    "P = range(0, ...)\n",
    "p = range(0, ...)\n",
    "D=0\n",
    "d=0\n",
    "s=24\n",
    "ex=...."
   ]
  },
  {
   "cell_type": "code",
   "execution_count": 5,
   "metadata": {
    "scrolled": true
   },
   "outputs": [],
   "source": [
    "from itertools import product\n",
    "parameters = list(product(p, q, P, Q))\n",
    "len(parameters)"
   ]
  },
  {
   "cell_type": "markdown",
   "metadata": {},
   "source": [
    "**Совет:** если длина списка параметров у вас получится большая, то для начала передайте в функцию  `sarimax_gridsearch` только начало списка (например, первые 4 элемента) и оцените, насколько быстро у вас отрабатывает функция. Если дольше 2 минут, то оставьте перебор по всему списку параметров на дом."
   ]
  },
  {
   "cell_type": "code",
   "execution_count": 8,
   "metadata": {
    "scrolled": true
   },
   "outputs": [
    {
     "name": "stdout",
     "output_type": "stream",
     "text": [
      "Wall time: 0 ns\n"
     ]
    }
   ],
   "source": [
    "%%time\n",
    "sarimax_gridsearch(...my_timeseries...,ex, parameters[...], freq='H')"
   ]
  },
  {
   "cell_type": "markdown",
   "metadata": {},
   "source": [
    "###  👹Задание 6\n",
    "- Выберите оптимальную по AIC модель, обучите ее.\n",
    "- На одном графике изобразите исходный ряд за 5 месяцев и прогнозные значения, получаемые с помощью модели.\n",
    "- Проведите численную оценку качества с помощью одной из регрессионных метрик (MSE, MAE, MAPE...). \n",
    "    При этом имейте в виду, что не стоит опираться на несколько первых значений остатков модели, они считаются \"ненадежными\"  и обычно исключаются при оценке качества.\n",
    "    Номер первого \"надежного\" остатка вычисляется по формуле:\n",
    "\n",
    "$$\\max{\\{(P+D)s+p+d, Qs+q}\\}$$"
   ]
  },
  {
   "cell_type": "code",
   "execution_count": 408,
   "metadata": {},
   "outputs": [],
   "source": [
    "p=...\n",
    "P=...\n",
    "Q=...\n",
    "q=...\n",
    "D=0\n",
    "d=0\n",
    "s=24\n",
    "ex=...\n",
    "mod = sm.tsa.statespace.SARIMAX(...my_timeseries...,exog=ex, order=(p, d, q),\n",
    "                                       seasonal_order=(P, D, Q, s),\n",
    "                                       enforce_stationarity=False,\n",
    "                                       enforce_invertibility=False,freq='H').fit(disp=False)"
   ]
  },
  {
   "cell_type": "code",
   "execution_count": 7,
   "metadata": {
    "scrolled": true
   },
   "outputs": [],
   "source": [
    "print(mod.summary())"
   ]
  },
  {
   "cell_type": "code",
   "execution_count": null,
   "metadata": {},
   "outputs": [],
   "source": [
    "# Ваш код - построение графиков"
   ]
  },
  {
   "cell_type": "code",
   "execution_count": 107,
   "metadata": {},
   "outputs": [],
   "source": [
    "# импортируете функций вычисления регрессионных метрик\n",
    "from sklearn.metrics import mean_squared_error, mean_absolute_error, mean_absolute_percentage_error, r2_score  "
   ]
  },
  {
   "cell_type": "code",
   "execution_count": 9,
   "metadata": {},
   "outputs": [],
   "source": [
    "# Ваш код - вычисление метрик"
   ]
  },
  {
   "cell_type": "markdown",
   "metadata": {},
   "source": [
    "## Прогнозирование на новых данных"
   ]
  },
  {
   "cell_type": "markdown",
   "metadata": {},
   "source": [
    "###  👹Задание 7\n",
    "- Создайте расширенный датасет,объединив данные за все 6 месяцев. Вычислите и занесите в этот датасет значения всех выделенных в Задании 3 признаков.\n",
    "- Получите прогноз на январь-июнь 2016, также можно (при желании) вычислить доверительные интервалы для прогнозных значений.\n",
    "- Отобразите на графике истинные значения ряда за январь-июнь, прогнозные значения и, при желании доверительные интервалы для прогнозных значений. Для отрисовки доверительных интервалов пригодится код:\n",
    "\n",
    "    `plt.fill_between(my_timeseries, ci.iloc[:,0].values, ci.iloc[:,1].values, color='r', alpha=0.1)`\n",
    "- Вычислите значения регрессионных метрик качества из Задания 6 на данных за июнь\n"
   ]
  },
  {
   "cell_type": "code",
   "execution_count": 10,
   "metadata": {},
   "outputs": [],
   "source": [
    "# Ваш код - создание датасета"
   ]
  },
  {
   "cell_type": "code",
   "execution_count": 432,
   "metadata": {},
   "outputs": [],
   "source": [
    "predict=mod.get_prediction(start=datetime.datetime.strptime(\"2016-01-01 00:00:00\", \"%Y-%m-%d %H:%M:%S\"), \n",
    "                                         end=datetime.datetime.strptime(\"2016-06-30 23:00:00\", \"%Y-%m-%d %H:%M:%S\"), \n",
    "                                         dynamic=False,  exog=...\n",
    "predict_conf_int = predict.conf_int() # доверительные интервалы для прогнозов\n",
    "ci=predict_conf_int.loc['2016-01-01':,]"
   ]
  },
  {
   "cell_type": "code",
   "execution_count": null,
   "metadata": {},
   "outputs": [],
   "source": [
    "# Ваш код - построение графика"
   ]
  },
  {
   "cell_type": "code",
   "execution_count": null,
   "metadata": {},
   "outputs": [],
   "source": [
    "# Ваш код - вычисление метрик качества"
   ]
  },
  {
   "cell_type": "markdown",
   "metadata": {},
   "source": [
    "## Выводы\n",
    "###  👹Задание 8 и самое интересное\n",
    "- Сделайте вывод о качестве прогноза модели, в т.ч. на новых данных\n",
    "- Определите в какие даты прогноз модели сильно расходится с истинными значениями. С чем это может быть связано?\n",
    "- Попробуйте добавить в модель регрессионные признаки: еще несколько компонент Фурье, индикаторы праздничных дней, индикаторы природных аномалий и др.\n",
    "- Обучите модель заново и проведите аналогичный сделанному выше анализ. Улучшилось ли качество прогноза?\n",
    "\n",
    "**Немного полезных ссылок:**\n",
    "- Как добавить элементы ряда Фурье в качестве предикторов https://otexts.com/fpp2/useful-predictors.html\n",
    "- SARIMAX  in Python  https://www.statsmodels.org/dev/examples/notebooks/generated/statespace_sarimax_stata.html\n",
    "- Holidays in Python \n",
    "https://towardsdatascience.com/5-minute-guide-to-detecting-holidays-in-python-c270f8479387\n",
    "- Wheather events in New York\n",
    "https://www.weather.gov/okx/stormevents\n",
    "- Про то, на какие остатки модели не стоит обращать внимание https://www.statsmodels.org/devel/examples/notebooks/generated/statespace_sarimax_faq.html\n"
   ]
  }
 ],
 "metadata": {
  "kernelspec": {
   "display_name": "Python 3",
   "language": "python",
   "name": "python3"
  },
  "language_info": {
   "codemirror_mode": {
    "name": "ipython",
    "version": 3
   },
   "file_extension": ".py",
   "mimetype": "text/x-python",
   "name": "python",
   "nbconvert_exporter": "python",
   "pygments_lexer": "ipython3",
   "version": "3.6.6"
  }
 },
 "nbformat": 4,
 "nbformat_minor": 5
}
